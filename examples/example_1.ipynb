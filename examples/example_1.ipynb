{
 "cells": [
  {
   "cell_type": "markdown",
   "id": "b636b70e",
   "metadata": {},
   "source": [
    "# CAD2Sees Example: Seismic Assessment Workflow\n",
    "\n",
    "Complete workflow for seismic assessment of RC frame structures:\n",
    "1. Parse CAD files → Generate FE model → Run analyses → Assess performance → Visualise results\n",
    "\n",
    "**Input files**: `3d_v2.dxf`, `sections.dxf`, `general_info.json`"
   ]
  },
  {
   "cell_type": "markdown",
   "id": "abe9268a",
   "metadata": {},
   "source": [
    "## Import Libraries"
   ]
  },
  {
   "cell_type": "code",
   "execution_count": 1,
   "id": "25223fb7",
   "metadata": {},
   "outputs": [],
   "source": [
    "import os\n",
    "import numpy as np\n",
    "import pandas as pd\n",
    "import pickle as pkl\n",
    "\n",
    "# CAD2Sees modules\n",
    "from cad2sees.parsing.dxfparse import dxfparse\n",
    "from cad2sees.model_generation import model_init, node, restraint, geometric_transformation as gt\n",
    "from cad2sees.model_generation import joint, frame, infill, constraint\n",
    "from cad2sees.helpers import save_capacity, ops_utils\n",
    "from cad2sees.analysis import gravity, modal, pushover\n",
    "from cad2sees.post_processing import demand_capacity, N2, get_failed\n",
    "from cad2sees.visualise import visualise as vis"
   ]
  },
  {
   "cell_type": "markdown",
   "id": "c2d93add",
   "metadata": {},
   "source": [
    "## Configuration"
   ]
  },
  {
   "cell_type": "code",
   "execution_count": 2,
   "id": "da854c28",
   "metadata": {},
   "outputs": [],
   "source": [
    "# Analysis parameters\n",
    "LoadPattern = 'Modal'  # 'Modal', 'Uniform', 'Linear', 'Triangular'\n",
    "Direction = 1          # 1: X-direction, 2: Y-direction"
   ]
  },
  {
   "cell_type": "markdown",
   "id": "0f34fa99",
   "metadata": {},
   "source": [
    "## File Paths"
   ]
  },
  {
   "cell_type": "code",
   "execution_count": 3,
   "id": "8cd40f38",
   "metadata": {},
   "outputs": [],
   "source": [
    "cwd = os.getcwd()\n",
    "\n",
    "# Input files\n",
    "dxf_file_3d = os.path.join(cwd, 'inputs', '3D.dxf')\n",
    "dxf_file_sections = os.path.join(cwd, 'inputs', 'sections.dxf')\n",
    "json_file_general_info = os.path.join(cwd, 'inputs', 'general_info.json')\n",
    "\n",
    "# Output directories\n",
    "output_dir = os.path.join(cwd, 'outputs')\n",
    "capacity_outdir = os.path.join(output_dir, 'capacity')\n",
    "modal_outdir = os.path.join(output_dir, 'modal')\n",
    "push_outdir = os.path.join(output_dir, 'pushover')\n",
    "\n",
    "# Create directories\n",
    "for directory in [output_dir, capacity_outdir, modal_outdir, push_outdir]:\n",
    "    if not os.path.exists(directory):\n",
    "        os.makedirs(directory)"
   ]
  },
  {
   "cell_type": "markdown",
   "id": "9b104d2b",
   "metadata": {},
   "source": [
    "## 1. Parse CAD Files"
   ]
  },
  {
   "cell_type": "code",
   "execution_count": 4,
   "id": "7100f701",
   "metadata": {},
   "outputs": [
    {
     "name": "stdout",
     "output_type": "stream",
     "text": [
      "Starting DXF parsing workflow...\n",
      "Step 1: Reorganizing points...\n",
      "Step 2: Reorganizing elements...\n",
      "Step 3: Processing sections...\n",
      "Step 4: Reorganizing infills...\n",
      "Step 5: Adding mass and loads...\n",
      "Total load applied: 2566.08\n",
      "DXF parsing completed successfully!\n"
     ]
    }
   ],
   "source": [
    "# Parse DXF and JSON files\n",
    "Parser = dxfparse(\n",
    "    filepath_3D=dxf_file_3d,\n",
    "    filepath_Sections=dxf_file_sections,\n",
    "    filepath_GeneralInformation=json_file_general_info\n",
    ")\n",
    "Parser.Parse()"
   ]
  },
  {
   "cell_type": "code",
   "execution_count": 5,
   "id": "1bffa1cb",
   "metadata": {},
   "outputs": [],
   "source": [
    "# Initialize 3D model\n",
    "_, ndf = model_init.do3D()"
   ]
  },
  {
   "cell_type": "markdown",
   "id": "12eff797",
   "metadata": {},
   "source": [
    "## 2. Create Model Components"
   ]
  },
  {
   "cell_type": "code",
   "execution_count": 6,
   "id": "e658f8c9",
   "metadata": {},
   "outputs": [],
   "source": [
    "# Create geometric transformations\n",
    "Parser.Frames, GeometricTransformations = gt.do(Parser.Frames, Parser.Sections)"
   ]
  },
  {
   "cell_type": "code",
   "execution_count": 7,
   "id": "b9d14d56",
   "metadata": {},
   "outputs": [],
   "source": [
    "# Create nodes and restraints\n",
    "BCJMap = (np.asarray(Parser.Points['Type']) == 'BCJ')\n",
    "node.node(IDs=Parser.Points['ID'][~BCJMap], \n",
    "          Coordinates=Parser.Points['Coordinates'][~BCJMap])\n",
    "\n",
    "FixedNodesMap = (Parser.Points['BoundryConditions'].sum(axis=1) == ndf)\n",
    "restraint.fixall(Parser.Points['ID'][FixedNodesMap])"
   ]
  },
  {
   "cell_type": "markdown",
   "id": "8a9f845b",
   "metadata": {},
   "source": [
    "## 3. Create Elements"
   ]
  },
  {
   "cell_type": "code",
   "execution_count": 8,
   "id": "bc3215e8",
   "metadata": {},
   "outputs": [],
   "source": [
    "# Create beam-column joints\n",
    "JointOuts = joint.create(Parser.Points, Parser.Frames, Parser.Sections)"
   ]
  },
  {
   "cell_type": "code",
   "execution_count": 9,
   "id": "ac505e7a",
   "metadata": {},
   "outputs": [
    {
     "name": "stdout",
     "output_type": "stream",
     "text": [
      "Section ID: Column | Load: [103.68] kN\n",
      "Section ID: Column | Load: [207.36] kN\n",
      "Section ID: Column | Load: [224.64] kN\n",
      "Section ID: Column | Load: [432.] kN\n",
      "Section ID: Column | Load: [120.96] kN\n",
      "Section ID: Column | Load: [51.84] kN\n",
      "Section ID: Column | Load: [112.32] kN\n",
      "Section ID: Column | Load: [216.] kN\n",
      "Section ID: Column | Load: [60.48] kN\n"
     ]
    }
   ],
   "source": [
    "# Create frame elements\n",
    "FrameOuts, SectionOuts = frame.create('BWH_FiberOPS2', Parser.Frames, \n",
    "                                      Parser.Sections, Parser.Points, \n",
    "                                      GeometricTransformations)"
   ]
  },
  {
   "cell_type": "code",
   "execution_count": 10,
   "id": "6bc3bca1",
   "metadata": {},
   "outputs": [],
   "source": [
    "# Create infill elements\n",
    "InfillOuts = infill.create(Parser.Infills, Parser.InfillProperties)"
   ]
  },
  {
   "cell_type": "markdown",
   "id": "41433ee4",
   "metadata": {},
   "source": [
    "## 4. Save Capacities"
   ]
  },
  {
   "cell_type": "code",
   "execution_count": 11,
   "id": "1a2b47f8",
   "metadata": {},
   "outputs": [
    {
     "name": "stdout",
     "output_type": "stream",
     "text": [
      "Beam-Column Joints Data saved to c:\\Users\\besim\\Desktop\\CAD2Sees\\examples\\outputs\\capacity\\BCJoints.json\n",
      "Frames Data saved to c:\\Users\\besim\\Desktop\\CAD2Sees\\examples\\outputs\\capacity\\Frames.json\n",
      "Infills Data saved to c:\\Users\\besim\\Desktop\\CAD2Sees\\examples\\outputs\\capacity\\Infills.json\n"
     ]
    }
   ],
   "source": [
    "# Save element capacities\n",
    "save_capacity.BCJoint(JointOuts, capacity_outdir)\n",
    "save_capacity.Frame(FrameOuts, capacity_outdir)\n",
    "save_capacity.Infill(InfillOuts, capacity_outdir)\n",
    "\n",
    "# Save model data\n",
    "model_data = {'sections.pkl': SectionOuts, 'frames.pkl': Parser.Frames, 'nodes.pkl': Parser.Points}\n",
    "for filename, data in model_data.items():\n",
    "    with open(os.path.join(output_dir, filename), 'wb') as f:\n",
    "        pkl.dump(data, f)"
   ]
  },
  {
   "cell_type": "markdown",
   "id": "23d8fae5",
   "metadata": {},
   "source": [
    "## 5. Apply Constraints"
   ]
  },
  {
   "cell_type": "code",
   "execution_count": 12,
   "id": "2aa3d772",
   "metadata": {},
   "outputs": [],
   "source": [
    "# Define rigid diaphragms\n",
    "rigid_diaphragm_flag = Parser.config['rigid_diaphragm']\n",
    "push_nodes = constraint.rigid_diaphragm(Parser.Points, rigid_diaphragm_flag)"
   ]
  },
  {
   "cell_type": "code",
   "execution_count": 13,
   "id": "33a912c2",
   "metadata": {},
   "outputs": [],
   "source": [
    "# Save model geometry\n",
    "_ = ops_utils.GetShape(output_dir)"
   ]
  },
  {
   "cell_type": "markdown",
   "id": "2f0d01ff",
   "metadata": {},
   "source": [
    "## 6. Run Analyses"
   ]
  },
  {
   "cell_type": "code",
   "execution_count": 14,
   "id": "e7b05182",
   "metadata": {},
   "outputs": [
    {
     "name": "stdout",
     "output_type": "stream",
     "text": [
      "\n",
      "Gravity Analysis...\n",
      "Gravity Analysis Completed!\n",
      "Calculated Base Reaction: 2566.0799999999995,\n",
      "\n",
      "Loaded Total Force: 2566.0800000000004,\n",
      "\n"
     ]
    },
    {
     "name": "stderr",
     "output_type": "stream",
     "text": [
      "Using DomainModalProperties - Developed by: Massimo Petracca, Guido Camata, ASDEA Software Technology\n"
     ]
    }
   ],
   "source": [
    "# Gravity analysis\n",
    "gravity.do(Parser.Points)\n",
    "\n",
    "# Modal analysis\n",
    "periods, mass_participation_ratios = modal.do(3, outsavemode=1, outdir=modal_outdir, outMPR=True)"
   ]
  },
  {
   "cell_type": "code",
   "execution_count": 15,
   "id": "552c9f46",
   "metadata": {},
   "outputs": [],
   "source": [
    "# Setup recorders\n",
    "beam_column_elements = [int(i) for i in list(FrameOuts.keys())]\n",
    "bcj_elements = [int(i) for i in list(JointOuts.keys())]\n",
    "infill_elements = [int(i) for i in list(InfillOuts.keys())]\n",
    "\n",
    "ops_utils.AddDisplacementRecorders(push_outdir)\n",
    "ops_utils.AddChordRotationRecorders(push_outdir, beam_column_elements)\n",
    "ops_utils.AddFrameForceRecorders(push_outdir, beam_column_elements)\n",
    "ops_utils.AddFrameInflectionPointRecorders(push_outdir, beam_column_elements)\n",
    "ops_utils.AddBCJRecorder(push_outdir, bcj_elements)\n",
    "ops_utils.AddInfillRecorder(push_outdir, infill_elements)"
   ]
  },
  {
   "cell_type": "code",
   "execution_count": 16,
   "id": "0cf94b80",
   "metadata": {},
   "outputs": [
    {
     "name": "stdout",
     "output_type": "stream",
     "text": [
      "Modal pushover for Mode: 1 is being defined...\n",
      "Direction 2\n"
     ]
    },
    {
     "name": "stderr",
     "output_type": "stream",
     "text": [
      "WARNING can't set handler after analysis is created\n"
     ]
    },
    {
     "name": "stdout",
     "output_type": "stream",
     "text": [
      "DispControl Analysis SUCCESSFUL\n"
     ]
    }
   ],
   "source": [
    "# Pushover analysis\n",
    "spo_curve, spo_info = pushover.do(LoadPattern, Direction, push_nodes, \n",
    "                                  nsStep=1000, dref=0.1, mu=3.0)\n",
    "\n",
    "# Save results\n",
    "np.savetxt(os.path.join(push_outdir, 'SPOCurve.out'), spo_curve)\n",
    "np.savetxt(os.path.join(push_outdir, 'PushInfo.out'), spo_info)"
   ]
  },
  {
   "cell_type": "markdown",
   "id": "b976ee50",
   "metadata": {},
   "source": [
    "## 7. Post-Processing"
   ]
  },
  {
   "cell_type": "code",
   "execution_count": 17,
   "id": "53579ec5",
   "metadata": {},
   "outputs": [],
   "source": [
    "# Calculate demand-capacity ratios\n",
    "demand_capacity.BCJ(push_outdir, capacity_outdir)\n",
    "demand_capacity.FrameRotation(push_outdir, capacity_outdir)\n",
    "demand_capacity.Infill(push_outdir, capacity_outdir)\n",
    "demand_capacity.FrameShear(push_outdir, capacity_outdir, addInfill=1, priestleyFlag=0)"
   ]
  },
  {
   "cell_type": "markdown",
   "id": "78b7c0fb",
   "metadata": {},
   "source": [
    "## 8. N2 Method"
   ]
  },
  {
   "cell_type": "code",
   "execution_count": 18,
   "id": "dd5eacb9",
   "metadata": {},
   "outputs": [
    {
     "name": "stdout",
     "output_type": "stream",
     "text": [
      "Displacement Demand: 0.165 [m] Being Reached at Step 549\n"
     ]
    }
   ],
   "source": [
    "# Extract seismic parameters\n",
    "pga = Parser.config['PGA']\n",
    "soil_class = Parser.config['SoilClass']\n",
    "nation = Parser.config['NationalAnnex']\n",
    "spectrum_type = Parser.config['SpectrumType']\n",
    "\n",
    "# Apply N2 method\n",
    "n2_proc = N2.N2(pga, soil_class, spo_curve, spo_info, push_outdir,\n",
    "                capacity_outdir, Nation=nation, SpectrumType=spectrum_type)\n",
    "n2_proc.do()\n",
    "n2_proc.plot_it()"
   ]
  },
  {
   "cell_type": "markdown",
   "id": "6a90c2a0",
   "metadata": {},
   "source": [
    "## 9. Failure Assessment"
   ]
  },
  {
   "cell_type": "code",
   "execution_count": 19,
   "id": "8a46c440",
   "metadata": {},
   "outputs": [],
   "source": [
    "# Get failure data at performance point\n",
    "frame_rotation_fail, frame_yeild = get_failed.getFrameFlexural(push_outdir, int(n2_proc.StepNum))\n",
    "frame_shear_fail = get_failed.getFrameShear(push_outdir, int(n2_proc.StepNum))\n",
    "\n",
    "# Organize DCR data\n",
    "DFCols = list(frame_rotation_fail.keys())\n",
    "data_dict = {'YeildI': [], 'YeildJ': [], 'RotationI': [], 'RotationJ': [], 'Rotation': [], 'Shear': []}\n",
    "\n",
    "for k in DFCols:\n",
    "    rot_i = frame_rotation_fail[k].get('I', {})\n",
    "    rot_j = frame_rotation_fail[k].get('J', {})\n",
    "    rot_vals = [v for d in [rot_i, rot_j] for v in d.values()]\n",
    "    data_dict['Rotation'].append(max(rot_vals) if rot_vals else float('nan'))\n",
    "    data_dict['RotationI'].append(max(rot_i.values()) if rot_i else float('nan'))\n",
    "    data_dict['RotationJ'].append(max(rot_j.values()) if rot_j else float('nan'))\n",
    "\n",
    "    yield_i = frame_yeild[k].get('I', {})\n",
    "    yield_j = frame_yeild[k].get('J', {})\n",
    "    data_dict['YeildI'].append(max(yield_i.values()) if yield_i else float('nan'))\n",
    "    data_dict['YeildJ'].append(max(yield_j.values()) if yield_j else float('nan'))\n",
    "\n",
    "    shear_i = frame_shear_fail[k].get('I', {})\n",
    "    shear_j = frame_shear_fail[k].get('J', {})\n",
    "    shear_vals = [v for d in [shear_i, shear_j] for v in d.values()]\n",
    "    data_dict['Shear'].append(max(shear_vals) if shear_vals else float('nan'))\n",
    "\n",
    "df = pd.DataFrame(data_dict, index=DFCols).T\n",
    "shear_collapses = df.columns[df.loc['Shear'] >= 1.0]\n",
    "rotation_collapses = df.columns[df.loc['Rotation'] >= 1.0]"
   ]
  },
  {
   "cell_type": "markdown",
   "id": "96845d50",
   "metadata": {},
   "source": [
    "## 10. Visualisation"
   ]
  },
  {
   "cell_type": "code",
   "execution_count": 21,
   "id": "64d5cf8f",
   "metadata": {},
   "outputs": [
    {
     "name": "stdout",
     "output_type": "stream",
     "text": [
      "Writing mp4 frames for modal animation...\n",
      "Animation saved to c:\\Users\\besim\\Desktop\\CAD2Sees\\examples\\outputs\\Modal\\modal_Mode1.mp4\n",
      "Number of Cracked Beam Column Joints 5\n",
      "IDs of Cracked Beam Column Joints [1118. 1119. 1122. 1124. 1125.]\n",
      "Number of Peak Beam Column Joints 9\n",
      "IDs of Peak Beam Column Joints [1109. 1110. 1111. 1112. 1113. 1114. 1115. 1116. 1117.]\n",
      "Number of Ultimate Beam Column Joints 0\n",
      "IDs of Ultimate Beam Column Joints []\n",
      "Number of Frames Damage Limitation 8\n",
      "IDs of Frames Damage Limitation [np.float64(101110.0), np.float64(107116.0), np.float64(102111.0), np.float64(105114.0), np.float64(108117.0), np.float64(100109.0), np.float64(103112.0), np.float64(106115.0)]\n",
      "Number of Frames Significant Damage 0\n",
      "IDs of Frames Significant Damage []\n",
      "Number of Frames Near Collapse 1\n",
      "IDs of Frames Near Collapse [np.float64(104113.0)]\n",
      "Pushover plot saved to c:\\Users\\besim\\Desktop\\CAD2Sees\\examples\\outputs\\pushover\\PushoverResultsPlot.html\n"
     ]
    }
   ],
   "source": [
    "# Create visualisations\n",
    "V = vis.visualise(output_dir)\n",
    "\n",
    "# Modal visualisation\n",
    "V.modal(1, scalefactor=10, showme=1, saveme='mp4')\n",
    "\n",
    "# Pushover visualisation\n",
    "V.Pushover(push_outdir, showDCRframeShear=True, step=int(n2_proc.StepNum), \n",
    "           showme=0, saveme=1)"
   ]
  },
  {
   "cell_type": "code",
   "execution_count": 23,
   "id": "2221d278",
   "metadata": {},
   "outputs": [
    {
     "name": "stdout",
     "output_type": "stream",
     "text": [
      "Shear failures: 0\n",
      "Rotation failures: 1\n"
     ]
    }
   ],
   "source": [
    "# Results summary\n",
    "print(f\"Shear failures: {len(shear_collapses)}\")\n",
    "print(f\"Rotation failures: {len(rotation_collapses)}\")"
   ]
  },
  {
   "cell_type": "markdown",
   "id": "d3651712",
   "metadata": {},
   "source": [
    "## ✅ Analysis Complete\n",
    "\n",
    "Results saved to `outputs/` directory:\n",
    "- Capacity curves and DCR assessments\n",
    "- Modal analysis results  \n",
    "- Pushover curves and performance point\n",
    "- Interactive 3D visualisations"
   ]
  }
 ],
 "metadata": {
  "kernelspec": {
   "display_name": ".cad2sees_venv310",
   "language": "python",
   "name": "python3"
  },
  "language_info": {
   "codemirror_mode": {
    "name": "ipython",
    "version": 3
   },
   "file_extension": ".py",
   "mimetype": "text/x-python",
   "name": "python",
   "nbconvert_exporter": "python",
   "pygments_lexer": "ipython3",
   "version": "3.10.11"
  }
 },
 "nbformat": 4,
 "nbformat_minor": 5
}
